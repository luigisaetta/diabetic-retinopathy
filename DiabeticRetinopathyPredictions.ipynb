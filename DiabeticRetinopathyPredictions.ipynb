{
 "cells": [
  {
   "cell_type": "code",
   "execution_count": 1,
   "metadata": {},
   "outputs": [],
   "source": [
    "import os\n",
    "import re, math\n",
    "import time\n",
    "import pandas as pd\n",
    "import numpy as np\n",
    "import tensorflow as tf\n",
    "import matplotlib.pyplot as plt\n",
    "\n",
    "import tensorflow as tf\n",
    "import tensorflow.keras.backend as K\n",
    "\n",
    "# now opart of tensorflow\n",
    "# now opart of tensorflow\n",
    "import efficientnet.tfkeras as efn\n",
    "\n",
    "import cv2"
   ]
  },
  {
   "cell_type": "code",
   "execution_count": 2,
   "metadata": {},
   "outputs": [],
   "source": [
    "# to remove some warnings\n",
    "\n",
    "# TF2 way to reduce logging\n",
    "# this remove also INFO, verify if needed\n",
    "import logging\n",
    "logger = tf.get_logger()\n",
    "logger.setLevel(logging.ERROR)"
   ]
  },
  {
   "cell_type": "code",
   "execution_count": 3,
   "metadata": {},
   "outputs": [
    {
     "name": "stdout",
     "output_type": "stream",
     "text": [
      "Num GPUs Available:  2\n",
      "Using strategy for multiple GPU\n",
      "REPLICAS: 2\n"
     ]
    }
   ],
   "source": [
    "DEVICE = 'GPU'\n",
    "\n",
    "if DEVICE == \"GPU\":\n",
    "    n_gpu = len(tf.config.experimental.list_physical_devices('GPU'))\n",
    "    print(\"Num GPUs Available: \", n_gpu)\n",
    "    \n",
    "    if n_gpu > 1:\n",
    "        print(\"Using strategy for multiple GPU\")\n",
    "        strategy = tf.distribute.MirroredStrategy()\n",
    "    else:\n",
    "        print('Standard strategy for GPU...')\n",
    "        strategy = tf.distribute.get_strategy()\n",
    "\n",
    "AUTO     = tf.data.experimental.AUTOTUNE\n",
    "REPLICAS = strategy.num_replicas_in_sync\n",
    "\n",
    "print(f'REPLICAS: {REPLICAS}')"
   ]
  },
  {
   "cell_type": "code",
   "execution_count": 4,
   "metadata": {},
   "outputs": [],
   "source": [
    "BASE_DIR = '/home/ubuntu/kaggle/diabetic'\n",
    "\n",
    "TEST_IMAGES_DIR = os.path.join(BASE_DIR, 'test256')\n",
    "\n",
    "TFREC_DIR = os.path.join(BASE_DIR, 'tfrec')\n",
    "\n",
    "TEST_FILENAMES = tf.io.gfile.glob(os.path.join(TFREC_DIR,'test*.tfrec'))\n",
    "\n",
    "NUM_CLASSES = 5\n",
    "\n",
    "FOLDS = 5"
   ]
  },
  {
   "cell_type": "code",
   "execution_count": 5,
   "metadata": {},
   "outputs": [],
   "source": [
    "imSize = 256\n",
    "IMAGE_SIZE= [256,256]\n",
    "BATCH_SIZE = 512*4\n",
    "\n",
    "AUTO = tf.data.experimental.AUTOTUNE\n",
    "\n",
    "def decode_image(image_data):\n",
    "    image = tf.image.decode_jpeg(image_data, channels=3)\n",
    "    image = tf.cast(image, tf.float32) / 255.0  # convert image to floats in [0, 1] range\n",
    "    # porto a 256x256\n",
    "    # image = tf.image.resize(image, [imSize,imSize])\n",
    "    image = tf.reshape(image, [*IMAGE_SIZE, 3]) # explicit size needed for TPU\n",
    "    return image\n",
    "\n",
    "def read_unlabeled_tfrecord(example):\n",
    "    LABELED_TFREC_FORMAT = {\n",
    "        \"image\": tf.io.FixedLenFeature([], tf.string), # tf.string means bytestring\n",
    "        'patient_id' : tf.io.FixedLenFeature([], tf.int64), \n",
    "        'side' : tf.io.FixedLenFeature([], tf.int64),\n",
    "    }\n",
    "    example = tf.io.parse_single_example(example, LABELED_TFREC_FORMAT)\n",
    "    \n",
    "    image = decode_image(example['image'])\n",
    "    patient_id = example['patient_id']\n",
    "    side = example['side']\n",
    "    \n",
    "    return image, patient_id, side\n",
    "\n",
    "def get_test_dataset(filenames):\n",
    "    dataset = tf.data.TFRecordDataset(filenames, num_parallel_reads=AUTO)\n",
    "    dataset = dataset.cache()\n",
    "    dataset = dataset.map(read_unlabeled_tfrecord)\n",
    "    \n",
    "    dataset = dataset.batch(BATCH_SIZE)\n",
    "    dataset = dataset.prefetch(AUTO) # prefetch next batch while training (autotune prefetch buffer size)\n",
    "    return dataset\n",
    "\n",
    "# count # of images in files.. (embedded in file name)\n",
    "def count_data_items(filenames):\n",
    "    n = [int(re.compile(r\"-([0-9]*)\\.\").search(filename).group(1)) \n",
    "         for filename in filenames]\n",
    "    return np.sum(n)"
   ]
  },
  {
   "cell_type": "code",
   "execution_count": 6,
   "metadata": {},
   "outputs": [
    {
     "data": {
      "text/plain": [
       "53576"
      ]
     },
     "execution_count": 6,
     "metadata": {},
     "output_type": "execute_result"
    }
   ],
   "source": [
    "n_test_images =  count_data_items(TEST_FILENAMES)\n",
    "\n",
    "n_test_images"
   ]
  },
  {
   "cell_type": "code",
   "execution_count": 7,
   "metadata": {},
   "outputs": [],
   "source": [
    "# funzione vettoriale di conversione 0 -> left, 1 -> right\n",
    "def side_map(side):\n",
    "    if side == 0:\n",
    "        s_side = 'left'\n",
    "    else:\n",
    "        s_side = 'right'\n",
    "    return s_side\n",
    "\n",
    "v_side_map = np.vectorize(side_map)"
   ]
  },
  {
   "cell_type": "code",
   "execution_count": 8,
   "metadata": {},
   "outputs": [],
   "source": [
    "# carico il modello dall'ultimo run\n",
    "# per ora prendo fold0\n",
    "# adding some data augmentation\n",
    "data_augmentation = tf.keras.Sequential([\n",
    "  tf.keras.layers.experimental.preprocessing.RandomFlip('horizontal'),\n",
    "  # introduced in TF 2.3\n",
    "  tf.keras.layers.experimental.preprocessing.RandomRotation(0.4),\n",
    "  tf.keras.layers.experimental.preprocessing.RandomContrast(0.2)\n",
    "])\n",
    "\n",
    "# here we define the DNN Model\n",
    "\n",
    "EFNS = [efn.EfficientNetB0, efn.EfficientNetB1, efn.EfficientNetB2, efn.EfficientNetB3, \n",
    "        efn.EfficientNetB4, efn.EfficientNetB5, efn.EfficientNetB6, efn.EfficientNetB7]\n",
    "\n",
    "# as default it used B0\n",
    "\n",
    "def build_model(dim = 256, ef = 0):\n",
    "    inp = tf.keras.layers.Input(shape=(*IMAGE_SIZE, 3))\n",
    "    \n",
    "    # introdotta la data augmentation come parte del modello\n",
    "    x = data_augmentation(inp)\n",
    "    \n",
    "    base = EFNS[ef](input_shape=(*IMAGE_SIZE, 3), weights='imagenet', include_top = False)\n",
    "    \n",
    "    x = base(x)\n",
    "    x = tf.keras.layers.GlobalAveragePooling2D()(x)\n",
    "    x = tf.keras.layers.Dense(NUM_CLASSES, activation='softmax')(x)\n",
    "    \n",
    "    model = tf.keras.Model(inputs = inp,outputs = x)\n",
    "    \n",
    "    opt = tf.keras.optimizers.Adam(learning_rate = 0.001)\n",
    "    # loss = tf.keras.losses.BinaryCrossentropy(label_smoothing=0) \n",
    "    \n",
    "    model.compile(optimizer = opt, loss = 'sparse_categorical_crossentropy', metrics=['accuracy'])\n",
    "    \n",
    "    return model"
   ]
  },
  {
   "cell_type": "code",
   "execution_count": 9,
   "metadata": {},
   "outputs": [
    {
     "name": "stdout",
     "output_type": "stream",
     "text": [
      "Test: reading TFREcords file...\n",
      "Examples of the test data:\n",
      "Predictions using model fold  0\n",
      "Predictions using model fold  1\n",
      "Predictions using model fold  2\n",
      "Predictions using model fold  3\n",
      "Predictions using model fold  4\n"
     ]
    }
   ],
   "source": [
    "# in questo modo itero una volta sull'intero test dataset\n",
    "# ed estraggo tutti i nomi dei file delle immagini\n",
    "# TODO poi batch per batch posso effettuare le predizioni\n",
    "\n",
    "print('Test: reading TFREcords file...')\n",
    "print(\"Examples of the test data:\")\n",
    "\n",
    "\n",
    "class_prob_predictions = np.zeros(shape = (FOLDS, n_test_images, NUM_CLASSES))\n",
    "\n",
    "for fold in range(0,5):\n",
    "    # ricarica i dati\n",
    "    test_dataset = get_test_dataset(TEST_FILENAMES)\n",
    "    \n",
    "    print('Predictions using model fold ', fold)\n",
    "    \n",
    "    K.clear_session()\n",
    "    with strategy.scope():\n",
    "        model = build_model(ef = 4)\n",
    "\n",
    "    model.load_weights('fold-%i.h5'%fold)\n",
    "    \n",
    "    batch_num = 0\n",
    "    img_names = np.array([])\n",
    "    class_predictions_fold = np.zeros(shape = (n_test_images, NUM_CLASSES))\n",
    "    \n",
    "    for image, patient_id, side in iter(test_dataset):\n",
    "        # print('Working on batch num: ', batch_num)\n",
    "    \n",
    "        # predizione sul singolo batch\n",
    "        preds_batch = model.predict(image.numpy())\n",
    "        \n",
    "        # devo costruire i nomi dei files\n",
    "        s_patient_id = np.char.mod('%d', patient_id.numpy())\n",
    "        name = np.char.add(s_patient_id, '_')\n",
    "    \n",
    "        # side devo trasformare 0 in left, 1 in right\n",
    "        s_side = v_side_map(side.numpy())\n",
    "    \n",
    "        name = np.char.add(name, s_side)\n",
    "    \n",
    "        # salvo \n",
    "        img_names = np.append(img_names, name)\n",
    "        \n",
    "        start = batch_num * len(preds_batch)\n",
    "        end = ((batch_num + 1) * len(preds_batch))\n",
    "        class_predictions_fold[start:end] = preds_batch\n",
    "        \n",
    "        batch_num += 1\n",
    "    \n",
    "    # end of fold\n",
    "    class_prob_predictions[fold] = class_predictions_fold\n",
    "\n",
    "# alla fine    \n",
    "# faccio la media sugli n folds\n",
    "class_prob_predictions_avg = np.mean(class_prob_predictions, axis = 0)\n",
    "\n",
    "classes_predicted = np.argmax(class_prob_predictions_avg, axis = 1)\n",
    "\n",
    "# converto ad interi\n",
    "classes_predicted = classes_predicted.astype('int64')"
   ]
  },
  {
   "cell_type": "code",
   "execution_count": 10,
   "metadata": {},
   "outputs": [
    {
     "data": {
      "text/plain": [
       "53576"
      ]
     },
     "execution_count": 10,
     "metadata": {},
     "output_type": "execute_result"
    }
   ],
   "source": [
    "len(img_names)"
   ]
  },
  {
   "cell_type": "code",
   "execution_count": 11,
   "metadata": {},
   "outputs": [
    {
     "data": {
      "text/plain": [
       "53576"
      ]
     },
     "execution_count": 11,
     "metadata": {},
     "output_type": "execute_result"
    }
   ],
   "source": [
    "len(classes_predicted)"
   ]
  },
  {
   "cell_type": "code",
   "execution_count": 12,
   "metadata": {},
   "outputs": [],
   "source": [
    "# ora devo combinare image name e class_predictions in un singolo file\n",
    "submission = pd.DataFrame(dict(image=img_names, level=classes_predicted))"
   ]
  },
  {
   "cell_type": "code",
   "execution_count": 13,
   "metadata": {},
   "outputs": [
    {
     "data": {
      "text/html": [
       "<div>\n",
       "<style scoped>\n",
       "    .dataframe tbody tr th:only-of-type {\n",
       "        vertical-align: middle;\n",
       "    }\n",
       "\n",
       "    .dataframe tbody tr th {\n",
       "        vertical-align: top;\n",
       "    }\n",
       "\n",
       "    .dataframe thead th {\n",
       "        text-align: right;\n",
       "    }\n",
       "</style>\n",
       "<table border=\"1\" class=\"dataframe\">\n",
       "  <thead>\n",
       "    <tr style=\"text-align: right;\">\n",
       "      <th></th>\n",
       "      <th>image</th>\n",
       "      <th>level</th>\n",
       "    </tr>\n",
       "  </thead>\n",
       "  <tbody>\n",
       "    <tr>\n",
       "      <th>53556</th>\n",
       "      <td>16271_right</td>\n",
       "      <td>0</td>\n",
       "    </tr>\n",
       "    <tr>\n",
       "      <th>53557</th>\n",
       "      <td>19259_right</td>\n",
       "      <td>0</td>\n",
       "    </tr>\n",
       "    <tr>\n",
       "      <th>53558</th>\n",
       "      <td>8184_left</td>\n",
       "      <td>0</td>\n",
       "    </tr>\n",
       "    <tr>\n",
       "      <th>53559</th>\n",
       "      <td>33609_right</td>\n",
       "      <td>0</td>\n",
       "    </tr>\n",
       "    <tr>\n",
       "      <th>53560</th>\n",
       "      <td>43992_right</td>\n",
       "      <td>0</td>\n",
       "    </tr>\n",
       "    <tr>\n",
       "      <th>53561</th>\n",
       "      <td>38085_left</td>\n",
       "      <td>0</td>\n",
       "    </tr>\n",
       "    <tr>\n",
       "      <th>53562</th>\n",
       "      <td>4348_left</td>\n",
       "      <td>0</td>\n",
       "    </tr>\n",
       "    <tr>\n",
       "      <th>53563</th>\n",
       "      <td>5170_left</td>\n",
       "      <td>0</td>\n",
       "    </tr>\n",
       "    <tr>\n",
       "      <th>53564</th>\n",
       "      <td>17765_left</td>\n",
       "      <td>0</td>\n",
       "    </tr>\n",
       "    <tr>\n",
       "      <th>53565</th>\n",
       "      <td>33982_left</td>\n",
       "      <td>0</td>\n",
       "    </tr>\n",
       "    <tr>\n",
       "      <th>53566</th>\n",
       "      <td>43428_right</td>\n",
       "      <td>0</td>\n",
       "    </tr>\n",
       "    <tr>\n",
       "      <th>53567</th>\n",
       "      <td>9974_right</td>\n",
       "      <td>0</td>\n",
       "    </tr>\n",
       "    <tr>\n",
       "      <th>53568</th>\n",
       "      <td>33579_right</td>\n",
       "      <td>0</td>\n",
       "    </tr>\n",
       "    <tr>\n",
       "      <th>53569</th>\n",
       "      <td>4575_left</td>\n",
       "      <td>0</td>\n",
       "    </tr>\n",
       "    <tr>\n",
       "      <th>53570</th>\n",
       "      <td>19397_right</td>\n",
       "      <td>0</td>\n",
       "    </tr>\n",
       "    <tr>\n",
       "      <th>53571</th>\n",
       "      <td>27835_right</td>\n",
       "      <td>0</td>\n",
       "    </tr>\n",
       "    <tr>\n",
       "      <th>53572</th>\n",
       "      <td>40281_right</td>\n",
       "      <td>0</td>\n",
       "    </tr>\n",
       "    <tr>\n",
       "      <th>53573</th>\n",
       "      <td>10877_right</td>\n",
       "      <td>0</td>\n",
       "    </tr>\n",
       "    <tr>\n",
       "      <th>53574</th>\n",
       "      <td>39806_right</td>\n",
       "      <td>0</td>\n",
       "    </tr>\n",
       "    <tr>\n",
       "      <th>53575</th>\n",
       "      <td>6797_left</td>\n",
       "      <td>0</td>\n",
       "    </tr>\n",
       "  </tbody>\n",
       "</table>\n",
       "</div>"
      ],
      "text/plain": [
       "             image  level\n",
       "53556  16271_right      0\n",
       "53557  19259_right      0\n",
       "53558    8184_left      0\n",
       "53559  33609_right      0\n",
       "53560  43992_right      0\n",
       "53561   38085_left      0\n",
       "53562    4348_left      0\n",
       "53563    5170_left      0\n",
       "53564   17765_left      0\n",
       "53565   33982_left      0\n",
       "53566  43428_right      0\n",
       "53567   9974_right      0\n",
       "53568  33579_right      0\n",
       "53569    4575_left      0\n",
       "53570  19397_right      0\n",
       "53571  27835_right      0\n",
       "53572  40281_right      0\n",
       "53573  10877_right      0\n",
       "53574  39806_right      0\n",
       "53575    6797_left      0"
      ]
     },
     "execution_count": 13,
     "metadata": {},
     "output_type": "execute_result"
    }
   ],
   "source": [
    "submission.tail(20)"
   ]
  },
  {
   "cell_type": "code",
   "execution_count": 14,
   "metadata": {},
   "outputs": [],
   "source": [
    "submission = submission.sort_values('image') \n",
    "submission.to_csv('sub_diabetic08.csv', index=False)"
   ]
  },
  {
   "cell_type": "code",
   "execution_count": 15,
   "metadata": {},
   "outputs": [
    {
     "name": "stdout",
     "output_type": "stream",
     "text": [
      "env: KAGGLE_USERNAME=luigisaetta\n",
      "env: KAGGLE_KEY=8052f0a7efb83795d3da6ef4eb47dc5c\n",
      "100%|█████████████████████████████████████████| 693k/693k [00:02<00:00, 251kB/s]\n",
      "Successfully submitted to Diabetic Retinopathy Detection"
     ]
    }
   ],
   "source": [
    "# kaggle submission\n",
    "%env KAGGLE_USERNAME=luigisaetta\n",
    "%env KAGGLE_KEY = 8052f0a7efb83795d3da6ef4eb47dc5c\n",
    "\n",
    "! kaggle competitions submit -c diabetic-retinopathy-detection -f sub_diabetic08.csv -m \"5 fold, old ef4, gaussian blur\""
   ]
  },
  {
   "cell_type": "code",
   "execution_count": 16,
   "metadata": {},
   "outputs": [
    {
     "data": {
      "image/png": "[encoded data removed]",
      "text/plain": [
       "<Figure size 432x288 with 1 Axes>"
      ]
     },
     "metadata": {
      "needs_background": "light"
     },
     "output_type": "display_data"
    }
   ],
   "source": [
    "submission.level.hist();"
   ]
  },
  {
   "cell_type": "code",
   "execution_count": null,
   "metadata": {},
   "outputs": [],
   "source": []
  }
 ],
 "metadata": {
  "kernelspec": {
   "display_name": "Python 3",
   "language": "python",
   "name": "python3"
  },
  "language_info": {
   "codemirror_mode": {
    "name": "ipython",
    "version": 3
   },
   "file_extension": ".py",
   "mimetype": "text/x-python",
   "name": "python",
   "nbconvert_exporter": "python",
   "pygments_lexer": "ipython3",
   "version": "3.8.3"
  }
 },
 "nbformat": 4,
 "nbformat_minor": 4
}
